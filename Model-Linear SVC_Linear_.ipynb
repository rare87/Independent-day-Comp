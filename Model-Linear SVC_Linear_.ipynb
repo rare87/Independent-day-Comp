{
 "cells": [
  {
   "cell_type": "code",
   "execution_count": 1,
   "metadata": {},
   "outputs": [
    {
     "name": "stdout",
     "output_type": "stream",
     "text": [
      "[nltk_data] Downloading package stopwords to\n",
      "[nltk_data]     C:\\Users\\Swarupchanda\\AppData\\Roaming\\nltk_data...\n",
      "[nltk_data]   Package stopwords is already up-to-date!\n",
      "[nltk_data] Downloading package stopwords to\n",
      "[nltk_data]     C:\\Users\\Swarupchanda\\AppData\\Roaming\\nltk_data...\n",
      "[nltk_data]   Package stopwords is already up-to-date!\n"
     ]
    }
   ],
   "source": [
    "import pandas as pd\n",
    "import re\n",
    "import string\n",
    "import numpy as np\n",
    "import re, string, unicodedata\n",
    "import nltk\n",
    "import inflect\n",
    "from bs4 import BeautifulSoup\n",
    "from nltk import word_tokenize, sent_tokenize\n",
    "from nltk.corpus import stopwords\n",
    "nltk.download('stopwords')\n",
    "from nltk.stem import LancasterStemmer, WordNetLemmatizer\n",
    "import spacy\n",
    "from Contractions import CONTRACTION_MAP\n",
    "from nltk.tokenize.toktok import ToktokTokenizer\n",
    "from Text_Data_Cleaning_Function import normalize_data\n",
    "from sklearn.feature_extraction.text import CountVectorizer\n",
    "from nltk.tokenize import RegexpTokenizer\n",
    "from sklearn.naive_bayes import MultinomialNB\n",
    "from sklearn import metrics\n",
    "from sklearn.feature_extraction.text import TfidfVectorizer\n",
    "from sklearn.linear_model import LogisticRegression\n",
    "from Text_Data_Cleaning_Function import strip_html_tags,remove_between_square_brackets,punc,remove_accented_chars,expand_contractions,remove_special_characters,replace_numbers,lemmatize_text,remove_stopwords"
   ]
  },
  {
   "cell_type": "code",
   "execution_count": 2,
   "metadata": {},
   "outputs": [
    {
     "name": "stdout",
     "output_type": "stream",
     "text": [
      "(26267, 5)\n",
      "(8989, 5)\n",
      "(20972, 5)\n"
     ]
    },
    {
     "name": "stderr",
     "output_type": "stream",
     "text": [
      "C:\\Users\\Swarupchanda\\AppData\\Local\\Continuum\\anaconda3\\Anaconda\\lib\\site-packages\\ipykernel_launcher.py:6: SettingWithCopyWarning: \n",
      "A value is trying to be set on a copy of a slice from a DataFrame\n",
      "\n",
      "See the caveats in the documentation: http://pandas.pydata.org/pandas-docs/stable/user_guide/indexing.html#returning-a-view-versus-a-copy\n",
      "  \n"
     ]
    }
   ],
   "source": [
    "data=pd.read_csv(r\"C:\\Users\\Swarupchanda\\Documents\\ML_Competitions\\Independece_day_Competition\\final_data.csv\")\n",
    "train_data=data[data[\"Sample\"]==\"Train\"]\n",
    "test_data=data[data[\"Sample\"]==\"Test\"]\n",
    "print(train_data.shape)\n",
    "print(test_data.shape)\n",
    "train_data.drop_duplicates([\"ID\"],keep=\"first\",inplace=True)\n",
    "print(train_data.shape)"
   ]
  },
  {
   "cell_type": "code",
   "execution_count": 3,
   "metadata": {},
   "outputs": [
    {
     "name": "stdout",
     "output_type": "stream",
     "text": [
      "(20972, 9)\n",
      "(20972, 6)\n"
     ]
    }
   ],
   "source": [
    "df = pd.read_csv(r\"C:\\Users\\Swarupchanda\\Documents\\ML_Competitions\\Independece_day_Competition\\train.csv\")\n",
    "print(df.shape)\n",
    "target_cols = ['Computer Science', 'Physics', 'Mathematics','Statistics', 'Quantitative Biology', 'Quantitative Finance']\n",
    "\n",
    "y=df.loc[:,target_cols]\n",
    "print(y.shape)"
   ]
  },
  {
   "cell_type": "code",
   "execution_count": 4,
   "metadata": {},
   "outputs": [],
   "source": [
    "train_data = train_data.drop(['Unnamed: 0','ID','Target2','Sample'],axis=1)\n",
    "test_data = test_data.drop(['Unnamed: 0','Target2','Sample'],axis=1)"
   ]
  },
  {
   "cell_type": "code",
   "execution_count": 11,
   "metadata": {},
   "outputs": [],
   "source": [
    "from sklearn.feature_extraction.text import HashingVectorizer\n",
    "from sklearn.feature_extraction.text import TfidfVectorizer, TfidfTransformer\n",
    "\n",
    "\n",
    "cv = CountVectorizer(ngram_range=(1,2))\n",
    "tf = TfidfTransformer()\n",
    "# vec = HashingVectorizer(ngram_range=(1,2))\n",
    "\n",
    "\n",
    "# train_hs = vec.fit_transform(train_data[\"feature2\"])\n",
    "train_cv = cv.fit_transform(train_data[\"feature2\"])\n",
    "train_tf = tf.fit_transform(train_cv)\n",
    "\n",
    "# test_hs = vec.transform(test_data[\"feature2\"])\n",
    "test_cv = cv.transform(test_data[\"feature2\"])\n",
    "test_tf = tf.transform(test_cv)\n"
   ]
  },
  {
   "cell_type": "code",
   "execution_count": 15,
   "metadata": {},
   "outputs": [
    {
     "data": {
      "text/plain": [
       "(1, 1194375)"
      ]
     },
     "execution_count": 15,
     "metadata": {},
     "output_type": "execute_result"
    }
   ],
   "source": [
    "train_tf.shape"
   ]
  },
  {
   "cell_type": "code",
   "execution_count": 16,
   "metadata": {},
   "outputs": [],
   "source": [
    "\n",
    "from sklearn.svm import LinearSVC\n",
    "from sklearn.multioutput import MultiOutputClassifier\n",
    "\n",
    "model = LinearSVC(class_weight='balanced')\n",
    "models = MultiOutputClassifier(model)\n",
    "models.fit(train_tf, y)\n",
    "predssv = models.predict(test_tf)\n",
    "predssv"
   ]
  },
  {
   "cell_type": "code",
   "execution_count": null,
   "metadata": {},
   "outputs": [],
   "source": [
    "result.to_csv(r\"C:\\Users\\Swarupchanda\\Documents\\ML_Competitions\\Independece_day_Competition\\submission_14.csv\",index=False)"
   ]
  },
  {
   "cell_type": "code",
   "execution_count": null,
   "metadata": {},
   "outputs": [],
   "source": []
  }
 ],
 "metadata": {
  "kernelspec": {
   "display_name": "Python 3",
   "language": "python",
   "name": "python3"
  },
  "language_info": {
   "codemirror_mode": {
    "name": "ipython",
    "version": 3
   },
   "file_extension": ".py",
   "mimetype": "text/x-python",
   "name": "python",
   "nbconvert_exporter": "python",
   "pygments_lexer": "ipython3",
   "version": "3.7.0"
  }
 },
 "nbformat": 4,
 "nbformat_minor": 2
}
